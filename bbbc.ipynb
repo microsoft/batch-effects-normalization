{
 "cells": [
  {
   "cell_type": "code",
   "execution_count": 1,
   "id": "af471699",
   "metadata": {},
   "outputs": [
    {
     "name": "stdout",
     "output_type": "stream",
     "text": [
      "/home/alin/.conda/envs/py37/bin/python\r\n"
     ]
    }
   ],
   "source": [
    "!which python"
   ]
  },
  {
   "cell_type": "code",
   "execution_count": 1,
   "id": "6a6f444f",
   "metadata": {},
   "outputs": [],
   "source": [
    "from pybbbc import BBBC021\n",
    "import pandas as pd\n",
    "import numpy as np\n",
    "from pybbbc.utils import bytes_to_str\n",
    "import matplotlib.pyplot as plt\n",
    "from torch.utils.data import Dataset, DataLoader\n",
    "import torch\n",
    "from hydra.utils import instantiate\n",
    "from omegaconf import DictConfig\n",
    "from hydra.core.hydra_config import HydraConfig\n",
    "from omegaconf import OmegaConf\n",
    "from biomass.transforms import Standardize\n",
    "from torch import nn\n",
    "from biomass.poolers import MeanPooler\n",
    "import torch.nn.functional as F\n",
    "from sklearn.manifold import TSNE\n",
    "import matplotlib.colors as mcolors\n",
    "from sklearn.neighbors import KNeighborsClassifier\n",
    "from torchvision.transforms import Resize, Compose\n",
    "from biomass.models import TorchVisionClassifier\n",
    "from torch.nn import Identity\n",
    "from biomass.models import ContrastiveLearner\n",
    "import os\n",
    "import scipy\n",
    "from sklearn.decomposition import PCA\n",
    "%matplotlib inline"
   ]
  },
  {
   "cell_type": "code",
   "execution_count": 2,
   "id": "e2f1645f",
   "metadata": {
    "scrolled": true
   },
   "outputs": [
    {
     "data": {
      "text/plain": [
       "(11482365952, 11721506816)"
      ]
     },
     "execution_count": 2,
     "metadata": {},
     "output_type": "execute_result"
    }
   ],
   "source": [
    "torch.cuda.mem_get_info()"
   ]
  },
  {
   "cell_type": "code",
   "execution_count": 3,
   "id": "b6527c70",
   "metadata": {},
   "outputs": [
    {
     "name": "stdout",
     "output_type": "stream",
     "text": [
      "/home/alin/.conda/envs/py37/bin/python\r\n"
     ]
    }
   ],
   "source": [
    "!which python"
   ]
  },
  {
   "cell_type": "code",
   "execution_count": 4,
   "id": "bf55bddc",
   "metadata": {},
   "outputs": [],
   "source": [
    "class BBBC021_Ljosa(BBBC021):\n",
    "    \"\"\"\n",
    "    BBBC021 dataset as filtered by Ljosa et al., 2013.\n",
    "    \"\"\"\n",
    "    def __init__(self, ljosa_path, root_path=\"~/.cache/\", **kwargs):\n",
    "        ljosa_df = pd.read_csv(\n",
    "            ljosa_path, \n",
    "            delimiter='\\t', \n",
    "            header=None, \n",
    "            usecols=[0, 1, 2, 10, 11, 35],\n",
    "            names=[\"ljosa_table_id\", \"ljosa_image_id\", \"filename\", \"plate\", \"well\", \"replicate\"]\n",
    "        )\n",
    "        ljosa_df['site'] = ljosa_df['filename'].apply(lambda x: int(x.split('_')[-2][-1]))\n",
    "        super().__init__(root_path, **kwargs)\n",
    "        image_df = pd.DataFrame({\n",
    "            'plate': bytes_to_str(self.dataset[\"plate\"][self.index_vector]),\n",
    "            'well': bytes_to_str(self.dataset[\"well\"][self.index_vector]),\n",
    "            'site': self.dataset[\"site\"][self.index_vector]\n",
    "        })\n",
    "        self.joint_df = pd.merge(image_df, ljosa_df, on=['plate', 'well', 'site'], how='left', indicator='exist')\n",
    "        mask = self.joint_df['exist'] == 'both'\n",
    "        self.index_vector = np.arange(len(self.joint_df))[mask]\n",
    "        self.joint_df = self.joint_df[mask]"
   ]
  },
  {
   "cell_type": "code",
   "execution_count": 5,
   "id": "23b34934",
   "metadata": {},
   "outputs": [],
   "source": [
    "class BBBC021CellsDataset_Ljosa(Dataset):\n",
    "    \n",
    "    def __init__(self, ljosa_cell_path, ljosa_img_path, root_path, ximagesize, yimagesize, cropsize, \n",
    "                 xsize=1280, ysize=1024, min_area=250, transform=None, flip_order=[2, 1, 0]):\n",
    "        self.img_dataset = BBBC021_Ljosa(ljosa_img_path, root_path)\n",
    "        self.cell_df = pd.read_csv(ljosa_cell_path, delimiter='\\t', header=None, usecols=[0, 1, 3, 4, 7],\n",
    "                names=['table_id', 'image_id', 'nuclei_center_x', \n",
    "                       'nuclei_center_y', 'nuclei_area'])\n",
    "        self.ximagesize = ximagesize\n",
    "        self.yimagesize = yimagesize\n",
    "        self.cropsize = cropsize\n",
    "        self.xsize = xsize\n",
    "        self.ysize = ysize\n",
    "        self.xmid = self.xsize // 2\n",
    "        self.ymid = self.ysize // 2\n",
    "        self.xhalfimage = self.ximagesize // 2\n",
    "        self.yhalfimage = self.yimagesize // 2\n",
    "        self.halfcrop = self.cropsize // 2\n",
    "        mask = (self.cell_df['nuclei_center_x'] >= self.xmid - self.xhalfimage + self.halfcrop) & \\\n",
    "                (self.cell_df['nuclei_center_y'] >= self.ymid - self.yhalfimage + self.halfcrop) & \\\n",
    "                (self.cell_df['nuclei_center_x'] <= self.xmid + self.xhalfimage - self.halfcrop) & \\\n",
    "                (self.cell_df['nuclei_center_y'] <= self.ymid + self.yhalfimage - self.halfcrop) & \\\n",
    "                (self.cell_df['nuclei_area'] >= min_area)\n",
    "        self.cell_df = self.cell_df[mask]\n",
    "        self.cell_df = self.cell_df.set_index(['table_id', 'image_id'])\n",
    "        self.cell_df['nuclei_center_x'] = self.cell_df['nuclei_center_x'].round().astype(np.int64)\n",
    "        self.cell_df['nuclei_center_y'] = self.cell_df['nuclei_center_y'].round().astype(np.int64)\n",
    "        self.transform = transform\n",
    "        self.flip_order = flip_order\n",
    "    \n",
    "    def __getitem__(self, idx):\n",
    "        img, meta = self.img_dataset[idx]\n",
    "        entry = self.img_dataset.joint_df.iloc[idx]\n",
    "        try:\n",
    "            table_id, img_id = entry['ljosa_table_id'], entry['ljosa_image_id']\n",
    "            subset_df = self.cell_df.loc[table_id].loc[img_id]\n",
    "            if isinstance(subset_df, pd.Series):\n",
    "                subset_df = subset_df.to_frame()\n",
    "            all_crops = [torch.tensor(img[:, y-self.halfcrop:y+self.halfcrop, x-self.halfcrop:x+self.halfcrop]) \n",
    "                         for x, y in subset_df[['nuclei_center_x', 'nuclei_center_y']].values]\n",
    "            \n",
    "            # Change from (Actin, Tubulin, DMSO) -> (DMSO, Tubulin, Actin)\n",
    "            all_crops = [x[self.flip_order] for x in all_crops]\n",
    "            if self.transform is not None:\n",
    "                all_crops = [self.transform(x) for x in all_crops]\n",
    "            return all_crops, meta\n",
    "        except KeyError:\n",
    "            return [], meta\n",
    "    \n",
    "    def __len__(self):\n",
    "        return len(self.img_dataset)"
   ]
  },
  {
   "cell_type": "code",
   "execution_count": 6,
   "id": "0dda7fdd",
   "metadata": {},
   "outputs": [],
   "source": [
    "class PlateSampler:\n",
    "    def __init__(self, dataset, random: bool = True, use_batch: bool = False):\n",
    "        self.image_df = dataset.img_dataset.image_df\n",
    "        if use_batch:\n",
    "            self.col = self.image_df['plate'].apply(lambda x: x.split('_')[0])\n",
    "        else:\n",
    "            self.col = self.image_df['plate']\n",
    "        self.plates = self.col.unique()\n",
    "        self.random = random\n",
    "\n",
    "    def __iter__(self):\n",
    "        indexes = np.arange(self.__len__())\n",
    "        if self.random:\n",
    "            np.random.shuffle(indexes)\n",
    "        for plate_id in indexes:\n",
    "            plate = self.plates[plate_id]\n",
    "            all_imgs = self.image_df[self.col == plate].index\n",
    "            yield np.array(all_imgs)\n",
    "\n",
    "    def __len__(self):\n",
    "        return len(self.plates)"
   ]
  },
  {
   "cell_type": "code",
   "execution_count": 7,
   "id": "89e367f8",
   "metadata": {},
   "outputs": [],
   "source": [
    "def collate_fn(data):\n",
    "    img_lists, metas = zip(*data)\n",
    "\n",
    "    imgs = torch.stack([img for img_list in img_lists for img in img_list])\n",
    "    lens = torch.tensor([len(img_list) for img_list in img_lists])\n",
    "\n",
    "    return imgs, metas, lens"
   ]
  },
  {
   "cell_type": "code",
   "execution_count": 8,
   "id": "3d2ce5ec",
   "metadata": {},
   "outputs": [],
   "source": [
    "# sup_chkpt = torch.load(\"../blob/coos/checkpoints/erm_2022_06_23_00_19_27.pt\")\n",
    "\n",
    "# sup_model = TorchVisionClassifier(key=\"resnet50\", classifier=\"fc\", d_out=1139, pretrained=True)\n",
    "\n",
    "# sup_model.load_state_dict(sup_chkpt)\n",
    "\n",
    "# sup_model = sup_model.to('cuda')\n",
    "# sup_model = sup_model.eval()\n",
    "\n",
    "# sup_model.model.fc = Identity()"
   ]
  },
  {
   "cell_type": "code",
   "execution_count": 9,
   "id": "93050005",
   "metadata": {},
   "outputs": [],
   "source": [
    "model_construct = \"\"\"\n",
    "model:\n",
    "  _target_: biomass.models.ContrastiveLearner\n",
    "  encoder:\n",
    "    _target_: biomass.models.TorchVisionEncoder\n",
    "    name: resnet50\n",
    "    classifier_key: fc\n",
    "    pretrained: False\n",
    "  classifier:\n",
    "    _target_: biomass.models.Linear\n",
    "    in_features: 2048\n",
    "    out_features: 1139\n",
    "    bias: True\n",
    "  proj_nonlinear: True\n",
    "  proj_in: 2048\n",
    "  proj_out: 128\n",
    "\"\"\""
   ]
  },
  {
   "cell_type": "code",
   "execution_count": 10,
   "id": "072c6544",
   "metadata": {},
   "outputs": [
    {
     "name": "stderr",
     "output_type": "stream",
     "text": [
      "/home/alin/.conda/envs/py37/lib/python3.7/site-packages/torchvision/models/_utils.py:209: UserWarning: The parameter 'pretrained' is deprecated since 0.13 and will be removed in 0.15, please use 'weights' instead.\n",
      "  f\"The parameter '{pretrained_param}' is deprecated since 0.13 and will be removed in 0.15, \"\n",
      "/home/alin/.conda/envs/py37/lib/python3.7/site-packages/torchvision/models/_utils.py:223: UserWarning: Arguments other than a weight enum or `None` for 'weights' are deprecated since 0.13 and will be removed in 0.15. The current behavior is equivalent to passing `weights=None`.\n",
      "  warnings.warn(msg)\n"
     ]
    }
   ],
   "source": [
    "model = instantiate(OmegaConf.create(model_construct))[\"model\"]\n",
    "model.load_state_dict(torch.load(\"checkpoints/simclr_2022_08_30_03_25_00.pt\"))\n",
    "model = model.to('cuda')\n",
    "model = model.eval()"
   ]
  },
  {
   "cell_type": "code",
   "execution_count": 11,
   "id": "53ec5ede",
   "metadata": {},
   "outputs": [],
   "source": [
    "# sup_model = TorchVisionClassifier(key=\"resnet50\", classifier=\"fc\", d_out=1139, pretrained=True)\n",
    "# sup_model.load_state_dict(torch.load(\"checkpoints/simclr_2022_08_28_04_40_07.pt\"))\n",
    "# sup_model.model.fc = Identity()\n",
    "# model = ContrastiveLearner(sup_model, classifier=None, proj_nonlinear=True, proj_in=2048, proj_out=128)\n",
    "# model = model.to('cuda')\n",
    "# model = model.train()"
   ]
  },
  {
   "cell_type": "code",
   "execution_count": 12,
   "id": "673a8ba7",
   "metadata": {
    "scrolled": true
   },
   "outputs": [
    {
     "name": "stdout",
     "output_type": "stream",
     "text": [
      "Turned on track runinng stats for  BatchNorm2d(64, eps=1e-05, momentum=1.0, affine=True, track_running_stats=True)\n",
      "Turned on track runinng stats for  BatchNorm2d(64, eps=1e-05, momentum=1.0, affine=True, track_running_stats=True)\n",
      "Turned on track runinng stats for  BatchNorm2d(64, eps=1e-05, momentum=1.0, affine=True, track_running_stats=True)\n",
      "Turned on track runinng stats for  BatchNorm2d(256, eps=1e-05, momentum=1.0, affine=True, track_running_stats=True)\n",
      "Turned on track runinng stats for  BatchNorm2d(256, eps=1e-05, momentum=1.0, affine=True, track_running_stats=True)\n",
      "Turned on track runinng stats for  BatchNorm2d(64, eps=1e-05, momentum=1.0, affine=True, track_running_stats=True)\n",
      "Turned on track runinng stats for  BatchNorm2d(64, eps=1e-05, momentum=1.0, affine=True, track_running_stats=True)\n",
      "Turned on track runinng stats for  BatchNorm2d(256, eps=1e-05, momentum=1.0, affine=True, track_running_stats=True)\n",
      "Turned on track runinng stats for  BatchNorm2d(64, eps=1e-05, momentum=1.0, affine=True, track_running_stats=True)\n",
      "Turned on track runinng stats for  BatchNorm2d(64, eps=1e-05, momentum=1.0, affine=True, track_running_stats=True)\n",
      "Turned on track runinng stats for  BatchNorm2d(256, eps=1e-05, momentum=1.0, affine=True, track_running_stats=True)\n",
      "Turned on track runinng stats for  BatchNorm2d(128, eps=1e-05, momentum=1.0, affine=True, track_running_stats=True)\n",
      "Turned on track runinng stats for  BatchNorm2d(128, eps=1e-05, momentum=1.0, affine=True, track_running_stats=True)\n",
      "Turned on track runinng stats for  BatchNorm2d(512, eps=1e-05, momentum=1.0, affine=True, track_running_stats=True)\n",
      "Turned on track runinng stats for  BatchNorm2d(512, eps=1e-05, momentum=1.0, affine=True, track_running_stats=True)\n",
      "Turned on track runinng stats for  BatchNorm2d(128, eps=1e-05, momentum=1.0, affine=True, track_running_stats=True)\n",
      "Turned on track runinng stats for  BatchNorm2d(128, eps=1e-05, momentum=1.0, affine=True, track_running_stats=True)\n",
      "Turned on track runinng stats for  BatchNorm2d(512, eps=1e-05, momentum=1.0, affine=True, track_running_stats=True)\n",
      "Turned on track runinng stats for  BatchNorm2d(128, eps=1e-05, momentum=1.0, affine=True, track_running_stats=True)\n",
      "Turned on track runinng stats for  BatchNorm2d(128, eps=1e-05, momentum=1.0, affine=True, track_running_stats=True)\n",
      "Turned on track runinng stats for  BatchNorm2d(512, eps=1e-05, momentum=1.0, affine=True, track_running_stats=True)\n",
      "Turned on track runinng stats for  BatchNorm2d(128, eps=1e-05, momentum=1.0, affine=True, track_running_stats=True)\n",
      "Turned on track runinng stats for  BatchNorm2d(128, eps=1e-05, momentum=1.0, affine=True, track_running_stats=True)\n",
      "Turned on track runinng stats for  BatchNorm2d(512, eps=1e-05, momentum=1.0, affine=True, track_running_stats=True)\n",
      "Turned on track runinng stats for  BatchNorm2d(256, eps=1e-05, momentum=1.0, affine=True, track_running_stats=True)\n",
      "Turned on track runinng stats for  BatchNorm2d(256, eps=1e-05, momentum=1.0, affine=True, track_running_stats=True)\n",
      "Turned on track runinng stats for  BatchNorm2d(1024, eps=1e-05, momentum=1.0, affine=True, track_running_stats=True)\n",
      "Turned on track runinng stats for  BatchNorm2d(1024, eps=1e-05, momentum=1.0, affine=True, track_running_stats=True)\n",
      "Turned on track runinng stats for  BatchNorm2d(256, eps=1e-05, momentum=1.0, affine=True, track_running_stats=True)\n",
      "Turned on track runinng stats for  BatchNorm2d(256, eps=1e-05, momentum=1.0, affine=True, track_running_stats=True)\n",
      "Turned on track runinng stats for  BatchNorm2d(1024, eps=1e-05, momentum=1.0, affine=True, track_running_stats=True)\n",
      "Turned on track runinng stats for  BatchNorm2d(256, eps=1e-05, momentum=1.0, affine=True, track_running_stats=True)\n",
      "Turned on track runinng stats for  BatchNorm2d(256, eps=1e-05, momentum=1.0, affine=True, track_running_stats=True)\n",
      "Turned on track runinng stats for  BatchNorm2d(1024, eps=1e-05, momentum=1.0, affine=True, track_running_stats=True)\n",
      "Turned on track runinng stats for  BatchNorm2d(256, eps=1e-05, momentum=1.0, affine=True, track_running_stats=True)\n",
      "Turned on track runinng stats for  BatchNorm2d(256, eps=1e-05, momentum=1.0, affine=True, track_running_stats=True)\n",
      "Turned on track runinng stats for  BatchNorm2d(1024, eps=1e-05, momentum=1.0, affine=True, track_running_stats=True)\n",
      "Turned on track runinng stats for  BatchNorm2d(256, eps=1e-05, momentum=1.0, affine=True, track_running_stats=True)\n",
      "Turned on track runinng stats for  BatchNorm2d(256, eps=1e-05, momentum=1.0, affine=True, track_running_stats=True)\n",
      "Turned on track runinng stats for  BatchNorm2d(1024, eps=1e-05, momentum=1.0, affine=True, track_running_stats=True)\n",
      "Turned on track runinng stats for  BatchNorm2d(256, eps=1e-05, momentum=1.0, affine=True, track_running_stats=True)\n",
      "Turned on track runinng stats for  BatchNorm2d(256, eps=1e-05, momentum=1.0, affine=True, track_running_stats=True)\n",
      "Turned on track runinng stats for  BatchNorm2d(1024, eps=1e-05, momentum=1.0, affine=True, track_running_stats=True)\n",
      "Turned on track runinng stats for  BatchNorm2d(512, eps=1e-05, momentum=1.0, affine=True, track_running_stats=True)\n",
      "Turned on track runinng stats for  BatchNorm2d(512, eps=1e-05, momentum=1.0, affine=True, track_running_stats=True)\n",
      "Turned on track runinng stats for  BatchNorm2d(2048, eps=1e-05, momentum=1.0, affine=True, track_running_stats=True)\n",
      "Turned on track runinng stats for  BatchNorm2d(2048, eps=1e-05, momentum=1.0, affine=True, track_running_stats=True)\n",
      "Turned on track runinng stats for  BatchNorm2d(512, eps=1e-05, momentum=1.0, affine=True, track_running_stats=True)\n",
      "Turned on track runinng stats for  BatchNorm2d(512, eps=1e-05, momentum=1.0, affine=True, track_running_stats=True)\n",
      "Turned on track runinng stats for  BatchNorm2d(2048, eps=1e-05, momentum=1.0, affine=True, track_running_stats=True)\n",
      "Turned on track runinng stats for  BatchNorm2d(512, eps=1e-05, momentum=1.0, affine=True, track_running_stats=True)\n",
      "Turned on track runinng stats for  BatchNorm2d(512, eps=1e-05, momentum=1.0, affine=True, track_running_stats=True)\n",
      "Turned on track runinng stats for  BatchNorm2d(2048, eps=1e-05, momentum=1.0, affine=True, track_running_stats=True)\n"
     ]
    }
   ],
   "source": [
    "for m in model.modules():\n",
    "    if isinstance(m, torch.nn.modules.batchnorm._BatchNorm):\n",
    "        m.track_running_stats = True\n",
    "        m.momentum = 1.0\n",
    "        print('Turned on track runinng stats for ', m)"
   ]
  },
  {
   "cell_type": "code",
   "execution_count": 13,
   "id": "6c2069bc",
   "metadata": {},
   "outputs": [],
   "source": [
    "# for m in model.modules():\n",
    "#     for n, c in m.named_children():\n",
    "#         if isinstance(c, torch.nn.modules.batchnorm._BatchNorm):\n",
    "#             new_c = MyBatchNorm2d(c.num_features, c.eps, c.momentum,\n",
    "#                  c.affine, c.track_running_stats)\n",
    "#             new_c.load_state_dict(c.state_dict())\n",
    "#             setattr(m, n, new_c)\n",
    "#         print('Change BatchNorm2d to MyBatchNorm2d for ', n)"
   ]
  },
  {
   "cell_type": "code",
   "execution_count": 14,
   "id": "f0b95e98",
   "metadata": {
    "scrolled": true
   },
   "outputs": [],
   "source": [
    "cell_data = BBBC021CellsDataset_Ljosa(\n",
    "    '../bbbc_database/supplement_Object.txt', '../bbbc_database/supplement_Image.txt', \"~/.cache/\",\n",
    "    ximagesize=1280, yimagesize=1024, cropsize=48, xsize=1280, ysize=1024, min_area=0, \n",
    "    transform=Compose([Standardize(dim=(-2, -1))]),\n",
    "    flip_order=[2, 1, 0]\n",
    ")"
   ]
  },
  {
   "cell_type": "code",
   "execution_count": 15,
   "id": "79fe6d0f",
   "metadata": {},
   "outputs": [],
   "source": [
    "# class TestBatchSampler:\n",
    "    \n",
    "#     def __init__(self):\n",
    "#         pass\n",
    "    \n",
    "#     def __iter__(self):\n",
    "#         yield np.where(cell_data.img_dataset.image_df['moa'] == 'DMSO')[0]\n",
    "    \n",
    "#     def __len__():\n",
    "#         return 1\n",
    "\n",
    "# test_dl = DataLoader(cell_data, num_workers=12, pin_memory=True, collate_fn=collate_fn,\n",
    "#                      batch_sampler=TestBatchSampler())\n",
    "    \n",
    "# batch = next(iter(test_dl))\n",
    "\n",
    "# batch[0] = batch[0].to('cuda')\n",
    "\n",
    "# with torch.no_grad():\n",
    "#     out = model(batch[0])"
   ]
  },
  {
   "cell_type": "code",
   "execution_count": 16,
   "id": "11bf8143",
   "metadata": {
    "scrolled": true
   },
   "outputs": [],
   "source": [
    "# for m in model.modules():\n",
    "#     if isinstance(m, torch.nn.modules.batchnorm._BatchNorm):\n",
    "#         m.track_running_stats = False\n",
    "#         print('Turned off track runinng stats for ', m)"
   ]
  },
  {
   "cell_type": "code",
   "execution_count": 17,
   "id": "313a7ecb",
   "metadata": {},
   "outputs": [],
   "source": [
    "sampler = PlateSampler(cell_data, random=False, use_batch=False)\n",
    "dl = DataLoader(cell_data, num_workers=12, pin_memory=True, batch_sampler=sampler, collate_fn=collate_fn)"
   ]
  },
  {
   "cell_type": "code",
   "execution_count": 18,
   "id": "774d8a1c",
   "metadata": {},
   "outputs": [
    {
     "data": {
      "text/plain": [
       "(55,)"
      ]
     },
     "execution_count": 18,
     "metadata": {},
     "output_type": "execute_result"
    }
   ],
   "source": [
    "cell_data.img_dataset.joint_df['plate'].unique().shape"
   ]
  },
  {
   "cell_type": "code",
   "execution_count": 19,
   "id": "68a906f9",
   "metadata": {},
   "outputs": [],
   "source": [
    "@torch.no_grad()\n",
    "def get_img_level_feats(img_dl, model):\n",
    "    all_feats = [] \n",
    "    for batch in img_dl:\n",
    "        imgs = batch[0].to('cuda')[:, [2, 1, 0], :, :]\n",
    "        feats = model.encode(imgs)\n",
    "        all_feats.append(feats.cpu())\n",
    "    feats = torch.cat(all_feats)\n",
    "    return feats"
   ]
  },
  {
   "cell_type": "code",
   "execution_count": 20,
   "id": "99775f6a",
   "metadata": {},
   "outputs": [],
   "source": [
    "def whitening_transform(X, lambda_=1e-2, rotate=True):\n",
    "    C = (1/X.shape[0]) * (X.T @ X)\n",
    "    s, V = torch.linalg.eigh(C)\n",
    "    d = 1. / torch.sqrt(s + lambda_)\n",
    "    D = torch.diag(d)\n",
    "    W = V @ D\n",
    "    if rotate:\n",
    "        W = W @ V.T\n",
    "        \n",
    "    return W\n",
    "\n",
    "def whiten(X, mu, W):\n",
    "    return (X - mu) @ W"
   ]
  },
  {
   "cell_type": "code",
   "execution_count": 21,
   "id": "d051a7f2",
   "metadata": {},
   "outputs": [],
   "source": [
    "@torch.no_grad()\n",
    "def get_img_feats(\n",
    "    model: nn.Module,\n",
    "    pooler: nn.Module,\n",
    "    loader: DataLoader,\n",
    "    device: str,\n",
    "    use_projs: bool,\n",
    "    normalize: bool,\n",
    "    adaptive: bool,\n",
    "):\n",
    "    all_feats = []\n",
    "    for batch_id, (images, metas, lens) in enumerate(loader):\n",
    "        \n",
    "        images = images.to(device)\n",
    "        lens = lens.to(device)\n",
    "        \n",
    "        if adaptive:\n",
    "            # Use DMSO controls to compute batch statistics\n",
    "            model = model.train()\n",
    "            compounds = np.array([m.compound.compound for m in metas])\n",
    "            mask = torch.tensor(compounds == 'DMSO', device=device)\n",
    "            mask_images = torch.repeat_interleave(mask, lens)\n",
    "            feats = torch.zeros((len(lens), 2048), device=device)\n",
    "            feats[mask] = process_batch(model, images[mask_images], lens[mask], pooler, use_projs, normalize)\n",
    "\n",
    "            # Use those statistics to evaluate on the full batch\n",
    "            model = model.eval()\n",
    "            if not mask.all():\n",
    "                feats[~mask] = process_batch(model, images[~mask_images], lens[~mask], pooler, use_projs, normalize)\n",
    "        else:\n",
    "            feats = process_batch(model, images, lens, pooler, use_projs, normalize)\n",
    "        assert len(feats) == len(metas)\n",
    "\n",
    "        all_feats.append(feats.cpu())\n",
    "        print('Finished', batch_id)\n",
    "            \n",
    "    feats = torch.cat(all_feats, dim=0)\n",
    "    \n",
    "    return feats\n",
    "\n",
    "@torch.no_grad()\n",
    "def process_batch(model, images: nn.Module, lens: torch.Tensor, pooler: nn.Module, use_projs: bool, normalize: bool):\n",
    "    if use_projs:\n",
    "        feats = model.project(images)\n",
    "    else:\n",
    "        feats = model.encode(images)\n",
    "\n",
    "    if normalize:\n",
    "        feats = F.normalize(feats, dim=1)\n",
    "\n",
    "    feats_sets = torch.split(feats, lens.cpu().numpy().tolist())\n",
    "\n",
    "    # Max pooling\n",
    "    feats = torch.stack([pooler(feats_set) for feats_set in feats_sets], dim=0)\n",
    "    \n",
    "    return feats"
   ]
  },
  {
   "cell_type": "code",
   "execution_count": 22,
   "id": "5331a499",
   "metadata": {
    "scrolled": true
   },
   "outputs": [
    {
     "name": "stdout",
     "output_type": "stream",
     "text": [
      "Finished 0\n",
      "Finished 1\n",
      "Finished 2\n",
      "Finished 3\n",
      "Finished 4\n",
      "Finished 5\n",
      "Finished 6\n",
      "Finished 7\n",
      "Finished 8\n",
      "Finished 9\n",
      "Finished 10\n",
      "Finished 11\n",
      "Finished 12\n",
      "Finished 13\n",
      "Finished 14\n",
      "Finished 15\n",
      "Finished 16\n",
      "Finished 17\n",
      "Finished 18\n",
      "Finished 19\n",
      "Finished 20\n",
      "Finished 21\n",
      "Finished 22\n",
      "Finished 23\n",
      "Finished 24\n",
      "Finished 25\n",
      "Finished 26\n",
      "Finished 27\n",
      "Finished 28\n",
      "Finished 29\n",
      "Finished 30\n",
      "Finished 31\n",
      "Finished 32\n",
      "Finished 33\n",
      "Finished 34\n",
      "Finished 35\n",
      "Finished 36\n",
      "Finished 37\n",
      "Finished 38\n",
      "Finished 39\n",
      "Finished 40\n",
      "Finished 41\n",
      "Finished 42\n",
      "Finished 43\n",
      "Finished 44\n",
      "Finished 45\n",
      "Finished 46\n",
      "Finished 47\n",
      "Finished 48\n",
      "Finished 49\n",
      "Finished 50\n",
      "Finished 51\n",
      "Finished 52\n",
      "Finished 53\n",
      "Finished 54\n"
     ]
    }
   ],
   "source": [
    "feats = get_img_feats(model, MeanPooler(), dl, device='cuda', use_projs=False, normalize=True, \n",
    "                      adaptive=False)"
   ]
  },
  {
   "cell_type": "code",
   "execution_count": 23,
   "id": "c860e24c",
   "metadata": {},
   "outputs": [],
   "source": [
    "# img_dl = DataLoader(cell_data.img_dataset, batch_size=75, shuffle=False, drop_last=False)\n",
    "# feats = get_img_level_feats(img_dl, model)"
   ]
  },
  {
   "cell_type": "code",
   "execution_count": 24,
   "id": "941ac770",
   "metadata": {},
   "outputs": [],
   "source": [
    "df = cell_data.img_dataset.image_df"
   ]
  },
  {
   "cell_type": "code",
   "execution_count": 25,
   "id": "a864a6d7",
   "metadata": {},
   "outputs": [],
   "source": [
    "mask = (~(torch.isnan(feats)).any(dim=1))"
   ]
  },
  {
   "cell_type": "code",
   "execution_count": 26,
   "id": "c69ff5e8",
   "metadata": {},
   "outputs": [],
   "source": [
    "df = df[mask.numpy()]"
   ]
  },
  {
   "cell_type": "code",
   "execution_count": 27,
   "id": "5e25a260",
   "metadata": {},
   "outputs": [],
   "source": [
    "feats = feats[mask]"
   ]
  },
  {
   "cell_type": "code",
   "execution_count": 28,
   "id": "8b835c82",
   "metadata": {},
   "outputs": [
    {
     "data": {
      "text/plain": [
       "tensor([[0.0253, 0.0044, 0.0081,  ..., 0.0355, 0.0170, 0.0299],\n",
       "        [0.0254, 0.0043, 0.0076,  ..., 0.0355, 0.0169, 0.0303],\n",
       "        [0.0251, 0.0043, 0.0079,  ..., 0.0353, 0.0171, 0.0303],\n",
       "        ...,\n",
       "        [0.0249, 0.0042, 0.0076,  ..., 0.0358, 0.0166, 0.0301],\n",
       "        [0.0250, 0.0044, 0.0075,  ..., 0.0356, 0.0169, 0.0300],\n",
       "        [0.0250, 0.0043, 0.0078,  ..., 0.0355, 0.0172, 0.0302]])"
      ]
     },
     "execution_count": 28,
     "metadata": {},
     "output_type": "execute_result"
    }
   ],
   "source": [
    "feats"
   ]
  },
  {
   "cell_type": "code",
   "execution_count": 29,
   "id": "147be9a5",
   "metadata": {},
   "outputs": [],
   "source": [
    "# feats = torch.tensor(PCA(n_components=1000).fit_transform(feats.numpy()))"
   ]
  },
  {
   "cell_type": "code",
   "execution_count": 30,
   "id": "eb7c1c1d",
   "metadata": {
    "scrolled": false
   },
   "outputs": [
    {
     "name": "stderr",
     "output_type": "stream",
     "text": [
      "/home/alin/.conda/envs/py37/lib/python3.7/site-packages/pandas/core/frame.py:3678: SettingWithCopyWarning: \n",
      "A value is trying to be set on a copy of a slice from a DataFrame.\n",
      "Try using .loc[row_indexer,col_indexer] = value instead\n",
      "\n",
      "See the caveats in the documentation: https://pandas.pydata.org/pandas-docs/stable/user_guide/indexing.html#returning-a-view-versus-a-copy\n",
      "  self[col] = igetitem(value, i)\n",
      "/home/alin/.conda/envs/py37/lib/python3.7/site-packages/pandas/core/frame.py:3678: PerformanceWarning: DataFrame is highly fragmented.  This is usually the result of calling `frame.insert` many times, which has poor performance.  Consider joining all columns at once using pd.concat(axis=1) instead.  To get a de-fragmented frame, use `newframe = frame.copy()`\n",
      "  self[col] = igetitem(value, i)\n"
     ]
    }
   ],
   "source": [
    "df[list(range(feats.shape[1]))] = feats.numpy()"
   ]
  },
  {
   "cell_type": "code",
   "execution_count": 69,
   "id": "1cb147cd",
   "metadata": {},
   "outputs": [
    {
     "name": "stderr",
     "output_type": "stream",
     "text": [
      "/home/alin/.conda/envs/py37/lib/python3.7/site-packages/pandas/core/frame.py:3678: SettingWithCopyWarning: \n",
      "A value is trying to be set on a copy of a slice from a DataFrame.\n",
      "Try using .loc[row_indexer,col_indexer] = value instead\n",
      "\n",
      "See the caveats in the documentation: https://pandas.pydata.org/pandas-docs/stable/user_guide/indexing.html#returning-a-view-versus-a-copy\n",
      "  self[col] = igetitem(value, i)\n"
     ]
    },
    {
     "data": {
      "image/png": "[encoded data removed]",
      "text/plain": [
       "<Figure size 640x480 with 1 Axes>"
      ]
     },
     "metadata": {},
     "output_type": "display_data"
    }
   ],
   "source": [
    "use_whitening = True\n",
    "lambda_ = 0.02\n",
    "if use_whitening:\n",
    "    controls_mask = torch.tensor((df['compound'] == 'DMSO').values)\n",
    "    controls = feats[controls_mask]\n",
    "    control_means = controls.mean(dim=0)\n",
    "    controls = controls - control_means\n",
    "    W = whitening_transform(controls, lambda_=lambda_)\n",
    "    whitened_feats = whiten(feats, control_means, W)\n",
    "    \n",
    "    df[list(range(feats.shape[1]))] = whitened_feats.numpy()\n",
    "    \n",
    "    whitened_controls = whitened_feats[controls_mask]\n",
    "    C_target = 1 / whitened_controls.shape[0] * whitened_controls.T @ whitened_controls\n",
    "    C_target = C_target + torch.eye(len(C_target))\n",
    "    C_target = np.real(scipy.linalg.sqrtm(C_target.cpu().numpy()))\n",
    "    plt.plot(np.diag(C_target))"
   ]
  },
  {
   "cell_type": "code",
   "execution_count": 82,
   "id": "639111c8",
   "metadata": {
    "scrolled": true
   },
   "outputs": [
    {
     "name": "stdout",
     "output_type": "stream",
     "text": [
      "Finished Week1_22361\n",
      "Finished Week3_25721\n",
      "Finished Week7_34661\n",
      "Finished Week3_25681\n",
      "Finished Week7_34341\n",
      "Finished Week4_27861\n",
      "Finished Week1_22401\n",
      "Finished Week4_27521\n",
      "Finished Week4_27821\n",
      "Finished Week5_28921\n",
      "Finished Week3_25701\n",
      "Finished Week5_29321\n",
      "Finished Week10_40111\n",
      "Finished Week9_39221\n",
      "Finished Week9_39206\n",
      "Finished Week4_27542\n",
      "Finished Week6_32161\n",
      "Finished Week1_22161\n",
      "Finished Week6_32061\n",
      "Finished Week3_25461\n",
      "Finished Week1_22381\n",
      "Finished Week10_40115\n",
      "Finished Week1_22141\n",
      "Finished Week3_25441\n",
      "Finished Week4_27481\n",
      "Finished Week9_39301\n",
      "Finished Week2_24381\n",
      "Finished Week3_25421\n",
      "Finished Week9_39282\n",
      "Finished Week2_24121\n",
      "Finished Week5_28901\n",
      "Finished Week6_31661\n",
      "Finished Week7_34641\n",
      "Finished Week9_39283\n",
      "Finished Week5_29301\n",
      "Finished Week2_24361\n",
      "Finished Week4_27801\n",
      "Finished Week2_24141\n",
      "Finished Week5_28961\n",
      "Finished Week8_38203\n",
      "Finished Week6_31641\n",
      "Finished Week10_40119\n",
      "Finished Week1_22123\n",
      "Finished Week7_34381\n",
      "Finished Week7_34681\n",
      "Finished Week6_32121\n",
      "Finished Week5_29341\n",
      "Finished Week9_39222\n",
      "Finished Week8_38241\n",
      "Finished Week8_38341\n",
      "Finished Week8_38342\n",
      "Finished Week2_24401\n",
      "Finished Week8_38221\n",
      "Finished Week2_24161\n",
      "Finished Week6_31681\n"
     ]
    },
    {
     "name": "stderr",
     "output_type": "stream",
     "text": [
      "/home/alin/.conda/envs/py37/lib/python3.7/site-packages/pandas/core/frame.py:3678: SettingWithCopyWarning: \n",
      "A value is trying to be set on a copy of a slice from a DataFrame.\n",
      "Try using .loc[row_indexer,col_indexer] = value instead\n",
      "\n",
      "See the caveats in the documentation: https://pandas.pydata.org/pandas-docs/stable/user_guide/indexing.html#returning-a-view-versus-a-copy\n",
      "  self[col] = igetitem(value, i)\n"
     ]
    }
   ],
   "source": [
    "use_tvn = True\n",
    "if use_tvn:\n",
    "    tvn_feats = df[list(range(feats.shape[1]))].copy()\n",
    "    batches = df['plate']\n",
    "#     batches = df['plate'].apply(lambda x: x.split('_')[0])\n",
    "    for b in batches.unique():\n",
    "        plate_df = df[batches == b]\n",
    "        controls_features = plate_df[list(range(feats.shape[1]))][plate_df['compound'] == 'DMSO'].values\n",
    "        all_features = plate_df[list(range(feats.shape[1]))].values\n",
    "        \n",
    "        C_source = (1/controls_features.shape[0]) * (controls_features.T @ controls_features)\n",
    "        C_source = scipy.linalg.inv(np.real(scipy.linalg.sqrtm(C_source + np.eye(len(C_source)))))\n",
    "        \n",
    "        new_features = (all_features @ C_source) @ C_target        \n",
    "        tvn_feats.loc[plate_df.index] = new_features\n",
    "        print(f'Finished {b}')\n",
    "    \n",
    "    df[list(range(feats.shape[1]))] = tvn_feats.values"
   ]
  },
  {
   "cell_type": "code",
   "execution_count": 83,
   "id": "1e676f78",
   "metadata": {
    "scrolled": false
   },
   "outputs": [],
   "source": [
    "well_df = df.groupby(['moa', 'compound', 'concentration', 'plate', 'well'], observed=True).mean() \n",
    "well_df['batch'] = [x.split('_')[0] for x in well_df.index.get_level_values(3)]\n",
    "compound_df = well_df.groupby(level=[0, 1, 2], observed=True).median()\n",
    "compound_df['batch'] = well_df['batch'].groupby(level=[0, 1, 2]).apply(lambda x: \",\".join(x.unique()))"
   ]
  },
  {
   "cell_type": "code",
   "execution_count": 84,
   "id": "8394a8e7",
   "metadata": {},
   "outputs": [
    {
     "data": {
      "text/plain": [
       "array(['Week1', 'Week2', 'Week3', 'Week7',\n",
       "       'Week1,Week3,Week7,Week4,Week5,Week10,Week9,Week6,Week2,Week8',\n",
       "       'Week4', 'Week6', 'Week5', 'Week10', 'Week8', 'Week9'],\n",
       "      dtype=object)"
      ]
     },
     "execution_count": 84,
     "metadata": {},
     "output_type": "execute_result"
    }
   ],
   "source": [
    "compound_df['batch'].unique()"
   ]
  },
  {
   "cell_type": "code",
   "execution_count": 85,
   "id": "33996543",
   "metadata": {},
   "outputs": [],
   "source": [
    "compound_df = compound_df.drop(index='DMSO')"
   ]
  },
  {
   "cell_type": "code",
   "execution_count": 86,
   "id": "8234ed0e",
   "metadata": {},
   "outputs": [],
   "source": [
    "compound_feats = compound_df[range(feats.shape[1])].values\n",
    "# compound_feats = compound_feats / np.linalg.norm(compound_feats, axis=1).reshape(-1, 1)"
   ]
  },
  {
   "cell_type": "code",
   "execution_count": 87,
   "id": "d6b070da",
   "metadata": {},
   "outputs": [
    {
     "name": "stderr",
     "output_type": "stream",
     "text": [
      "/home/alin/.conda/envs/py37/lib/python3.7/site-packages/sklearn/manifold/_t_sne.py:783: FutureWarning: The default initialization in TSNE will change from 'random' to 'pca' in 1.2.\n",
      "  FutureWarning,\n",
      "/home/alin/.conda/envs/py37/lib/python3.7/site-packages/sklearn/manifold/_t_sne.py:793: FutureWarning: The default learning rate in TSNE will change from 200.0 to 'auto' in 1.2.\n",
      "  FutureWarning,\n"
     ]
    }
   ],
   "source": [
    "transformed = TSNE(n_components=2).fit_transform(compound_feats)"
   ]
  },
  {
   "cell_type": "code",
   "execution_count": 88,
   "id": "9d472bbd",
   "metadata": {},
   "outputs": [],
   "source": [
    "colors = list(mcolors.TABLEAU_COLORS.keys()) + ['lime', 'yellow', 'magenta']"
   ]
  },
  {
   "cell_type": "code",
   "execution_count": 89,
   "id": "e55457a7",
   "metadata": {},
   "outputs": [],
   "source": [
    "moas = compound_df.index.get_level_values(0)\n",
    "unique_moas = moas.unique()"
   ]
  },
  {
   "cell_type": "code",
   "execution_count": 90,
   "id": "371b6a90",
   "metadata": {
    "scrolled": false
   },
   "outputs": [
    {
     "data": {
      "text/plain": [
       "<matplotlib.legend.Legend at 0x7f94c77b1850>"
      ]
     },
     "execution_count": 90,
     "metadata": {},
     "output_type": "execute_result"
    },
    {
     "data": {
      "image/png": "[encoded data removed]",
      "text/plain": [
       "<Figure size 640x480 with 1 Axes>"
      ]
     },
     "metadata": {},
     "output_type": "display_data"
    }
   ],
   "source": [
    "for idx, moa in enumerate(unique_moas):\n",
    "    mask = (moas == moa)\n",
    "    plt.scatter(transformed[:, 0][mask], transformed[:, 1][mask], c=colors[idx])\n",
    "plt.legend(unique_moas, bbox_to_anchor=(1, 1))"
   ]
  },
  {
   "cell_type": "code",
   "execution_count": 91,
   "id": "d9e6577f",
   "metadata": {},
   "outputs": [],
   "source": [
    "def knn(X, Y, T):\n",
    "    neigh = KNeighborsClassifier(n_neighbors=1, algorithm=\"brute\", metric=\"cosine\")\n",
    "    neigh.fit(X, Y)\n",
    "    prediction = neigh.predict(T.reshape(1, -1))\n",
    "    return prediction[0]\n",
    "\n",
    "def nsc(compound_feats, compounds, moas): \n",
    "    corrects = []\n",
    "    for i in range(len(compound_feats)):\n",
    "        mask = (compounds != compounds[i])\n",
    "        pred = knn(compound_feats[mask], moas[mask], compound_feats[i])\n",
    "        if pred == moas[i]:\n",
    "            corrects.append(True)\n",
    "        else:\n",
    "            corrects.append(False)\n",
    "    return corrects"
   ]
  },
  {
   "cell_type": "code",
   "execution_count": 92,
   "id": "dff41b88",
   "metadata": {},
   "outputs": [
    {
     "data": {
      "text/plain": [
       "0.7572815533980582"
      ]
     },
     "execution_count": 92,
     "metadata": {},
     "output_type": "execute_result"
    }
   ],
   "source": [
    "corrects = nsc(compound_feats, compounds=compound_df.index.get_level_values(1), moas=compound_df.index.get_level_values(0))\n",
    "np.mean(corrects)"
   ]
  },
  {
   "cell_type": "code",
   "execution_count": 93,
   "id": "73139ab5",
   "metadata": {},
   "outputs": [],
   "source": [
    "def nscb(compound_feats, compounds, moas, batches):\n",
    "    corrects = []\n",
    "    for i in range(len(compound_feats)):\n",
    "        if moas[i] in [\"Cholesterol-lowering\", \"Kinase inhibitors\"]:\n",
    "            corrects.append(np.nan)\n",
    "        else:\n",
    "            mask = (compounds != compounds[i]) & (batches != batches[i])\n",
    "            pred = knn(compound_feats[mask], moas[mask], compound_feats[i])\n",
    "            if pred == moas[i]:\n",
    "                corrects.append(True)\n",
    "            else:\n",
    "                corrects.append(False)\n",
    "    return corrects"
   ]
  },
  {
   "cell_type": "code",
   "execution_count": 94,
   "id": "b35f9f62",
   "metadata": {},
   "outputs": [
    {
     "data": {
      "text/plain": [
       "0.5978260869565217"
      ]
     },
     "execution_count": 94,
     "metadata": {},
     "output_type": "execute_result"
    }
   ],
   "source": [
    "corrects2 = nscb(compound_feats, compounds=compound_df.index.get_level_values(1), \n",
    "                 moas=compound_df.index.get_level_values(0), batches=compound_df['batch'].values)\n",
    "np.nanmean(corrects2)"
   ]
  },
  {
   "cell_type": "code",
   "execution_count": 95,
   "id": "c5b2d162",
   "metadata": {},
   "outputs": [],
   "source": [
    "compound_df['corrects'] = corrects"
   ]
  },
  {
   "cell_type": "code",
   "execution_count": 137,
   "id": "940d360a",
   "metadata": {},
   "outputs": [
    {
     "data": {
      "text/plain": [
       "<AxesSubplot:xlabel='moa', ylabel='accuracy'>"
      ]
     },
     "execution_count": 137,
     "metadata": {},
     "output_type": "execute_result"
    },
    {
     "data": {
      "image/png": "[encoded data removed]",
      "text/plain": [
       "<Figure size 640x480 with 1 Axes>"
      ]
     },
     "metadata": {},
     "output_type": "display_data"
    }
   ],
   "source": [
    "compound_df['corrects'].groupby(level=0).mean().plot.bar(ylabel='accuracy', rot=70)"
   ]
  }
 ],
 "metadata": {
  "kernelspec": {
   "display_name": "Python 3 (ipykernel)",
   "language": "python",
   "name": "python3"
  },
  "language_info": {
   "codemirror_mode": {
    "name": "ipython",
    "version": 3
   },
   "file_extension": ".py",
   "mimetype": "text/x-python",
   "name": "python",
   "nbconvert_exporter": "python",
   "pygments_lexer": "ipython3",
   "version": "3.7.13"
  }
 },
 "nbformat": 4,
 "nbformat_minor": 5
}
